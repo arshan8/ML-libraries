{
 "cells": [
  {
   "cell_type": "code",
   "execution_count": null,
   "metadata": {},
   "outputs": [
    {
     "name": "stdout",
     "output_type": "stream",
     "text": [
      "2       0\n",
      "3       1\n",
      "4       2\n",
      "5     uhu\n",
      "6       4\n",
      "7       5\n",
      "8       6\n",
      "9       7\n",
      "10      8\n",
      "11      9\n",
      "12     10\n",
      "13     11\n",
      "14     12\n",
      "15     13\n",
      "16     14\n",
      "dtype: object\n",
      "<class 'pandas.core.series.Series'>\n",
      "first ele = 0\n",
      "<class 'pandas.core.series.Series'>\n",
      "<class 'numpy.ndarray'>\n"
     ]
    },
    {
     "name": "stderr",
     "output_type": "stream",
     "text": [
      "C:\\Users\\ARSHAN\\AppData\\Local\\Temp\\ipykernel_17132\\2522333179.py:6: FutureWarning: Setting an item of incompatible dtype is deprecated and will raise an error in a future version of pandas. Value 'uhu' has dtype incompatible with int32, please explicitly cast to a compatible dtype first.\n",
      "  ser.iloc[3] = \"uhu\"\n"
     ]
    }
   ],
   "source": [
    "import pandas as pd\n",
    "import numpy as np\n",
    "\n",
    "arr = np.arange(15)\n",
    "ser = pd.Series(arr, index = np.arange(2,17))\n",
    "#ser.iloc[3] = \"uhu\"  #iloc : logical rather user declared \n",
    "#above behavioru will give warning only if u try ser.dtype\n",
    "print(ser)\n",
    "print(type(ser))\n",
    "print(f\"first ele = {ser[2]}\")\n",
    "print(type(ser))\n",
    "print(type(ser.values))"
   ]
  },
  {
   "cell_type": "code",
   "execution_count": 18,
   "metadata": {},
   "outputs": [
    {
     "name": "stdout",
     "output_type": "stream",
     "text": [
      "<class 'pandas.core.series.Series'>\n",
      "<class 'numpy.ndarray'>\n",
      "int32\n"
     ]
    }
   ],
   "source": [
    "print(type(ser))\n",
    "print(type(ser.values))\n",
    "print(ser.dtype)"
   ]
  },
  {
   "cell_type": "code",
   "execution_count": 27,
   "metadata": {},
   "outputs": [
    {
     "name": "stdout",
     "output_type": "stream",
     "text": [
      "ars        22\n",
      "babd       65\n",
      "djhajds    90\n",
      "dtype: int64\n"
     ]
    }
   ],
   "source": [
    "#from dic\n",
    "\n",
    "dic = {\"ars\" : 22, \"babd\" : 65, \"djhajds\" : 90}\n",
    "dic_to_ser = pd.Series(dic)\n",
    "print(dic_to_ser)"
   ]
  },
  {
   "cell_type": "code",
   "execution_count": 21,
   "metadata": {},
   "outputs": [
    {
     "name": "stdout",
     "output_type": "stream",
     "text": [
      "2     10\n",
      "3     10\n",
      "4     10\n",
      "5     10\n",
      "6     10\n",
      "7     10\n",
      "8     10\n",
      "9     10\n",
      "10    10\n",
      "11    10\n",
      "12    10\n",
      "13    10\n",
      "14    10\n",
      "15    10\n",
      "16    10\n",
      "dtype: int64\n"
     ]
    }
   ],
   "source": [
    "#from scalar\n",
    "\n",
    "g = pd.Series(10,index = np.arange(2,17))\n",
    "print(g)\n",
    "\n"
   ]
  },
  {
   "cell_type": "code",
   "execution_count": null,
   "metadata": {},
   "outputs": [
    {
     "name": "stdout",
     "output_type": "stream",
     "text": [
      "22\n",
      "[10 10 10 10 10 10 10 10 10 10 10 10 10 10 10]\n",
      "Index([2, 3, 4, 5, 6, 7, 8, 9, 10, 11, 12, 13, 14, 15, 16], dtype='int32')\n"
     ]
    }
   ],
   "source": [
    "#attributes means properties\n",
    "#methods: operations that u can perform\n",
    "\n",
    "print(dic_to_ser.iloc[0])  #iloc gives logical indexing, ignorining user defined index \n",
    "\n",
    "print(g.values)\n",
    "print(g.index)\n",
    "\n",
    "#Series.head(n) #prints first n elemnets, by default 5, similair is Series.tail"
   ]
  },
  {
   "cell_type": "code",
   "execution_count": null,
   "metadata": {},
   "outputs": [
    {
     "name": "stdout",
     "output_type": "stream",
     "text": [
      "<bound method NDFrame.describe of ars        22\n",
      "babd       65\n",
      "djhajds    90\n",
      "dtype: int64>\n",
      "count    15.0\n",
      "mean     10.0\n",
      "std       0.0\n",
      "min      10.0\n",
      "25%      10.0\n",
      "50%      10.0\n",
      "75%      10.0\n",
      "max      10.0\n",
      "dtype: float64\n"
     ]
    }
   ],
   "source": [
    "print(dic_to_ser.describe)\n",
    "\n",
    "print(g.describe())  #works with or wirhourt() , why:: read below\n",
    "\n",
    "\n",
    "# in Python, calling a method requires (), but accessing an attribute or method reference does not.\n",
    "\n",
    "# def greet():\n",
    "#     return \"Hello!\"\n",
    "\n",
    "# print(greet)  # Outputs: <function greet at 0x...> (function reference)\n",
    "# print(greet())  # Outputs: \"Hello!\" (actual function call)\n",
    "\n",
    "# Why does describe (without ()) not throw an error?\n",
    "# describe is a bound method of the Pandas Series or DataFrame.\n",
    "# When you write ser.describe, Python returns a method reference, which means the function itself is not executed.\n",
    "# But ser.describe() calls the method and executes it."
   ]
  },
  {
   "cell_type": "code",
   "execution_count": null,
   "metadata": {},
   "outputs": [
    {
     "name": "stdout",
     "output_type": "stream",
     "text": [
      "     name  age     9\n",
      "0  mahmod   10   olo\n",
      "1  arshan   20  polo\n",
      "2    heoa   32     d\n",
      "3    niga   32     o\n",
      "\n",
      "\n",
      "     name  age     9\n",
      "a  mahmod   10   olo\n",
      "b  arshan   20  polo\n",
      "c    heoa   32   NaN\n",
      "d    niga   32     o\n",
      "\n",
      "\n",
      "     name   age    9\n",
      "a  mahmod  10.0  olo\n",
      "c    heoa  32.0  NaN\n",
      "x     NaN   NaN  NaN\n",
      "\n",
      "\n",
      "     name\n",
      "a  mahmod\n",
      "c    heoa\n",
      "x     NaN\n"
     ]
    }
   ],
   "source": [
    "#Data frames: \n",
    "\n",
    "DF = pd.DataFrame(\n",
    "    {\"name\" : [\"mahmod\",\"arshan\",\"heoa\",\"niga\"],\n",
    "     \"age\" : [10,20,32,32],\n",
    "     9 : [\"olo\", \"polo\",\"d\",'o']}\n",
    ")\n",
    "\n",
    "print(DF)\n",
    "print('\\n')\n",
    "\n",
    "#series with indexing helps u maintain NaN , if u directly itll fire error, see 9 column below, \n",
    "# if do not wanna use series, thn manually us hould insert None\n",
    "GF = pd.DataFrame(\n",
    "    {\"name\" : pd.Series([\"mahmod\",\"arshan\",\"heoa\",\"niga\"],index = [\"a\",\"b\",\"c\",\"d\"]),\n",
    "     \"age\" : [10,20,32,32],\n",
    "     9: pd.Series([\"olo\", \"polo\", \"o\"], index=[\"a\", \"b\", \"d\"])  # Now it has an index\n",
    "    })\n",
    "print(GF)\n",
    "\n",
    "#makes shit better, using dic \n",
    "d = {\"name\" : pd.Series([\"mahmod\",\"arshan\",\"heoa\",\"niga\"],index = [\"a\",\"b\",\"c\",\"d\"]),\n",
    "     \"age\": pd.Series([10, 20, 32, 32], index=[\"a\", \"b\", \"c\", \"d\"]),  # ✅ Now explicitly indexed,\n",
    "     9: pd.Series([\"olo\", \"polo\", \"o\"], index=[\"a\", \"b\", \"d\"])  # Now it has an index\n",
    "    }\n",
    "\n",
    "print(\"\\n\")\n",
    "subGf = pd.DataFrame(d, index = [\"a\",\"c\",\"x\"])\n",
    "print(subGf)\n",
    "\n",
    "\n",
    "#renamimg columns\n",
    "subGf = pd.DataFrame(d, index = [\"a\",\"c\",\"x\"], columns = [\"name\"])  #filter\n",
    "print(\"\\n\")\n",
    "print(subGf)\n",
    "\n"
   ]
  },
  {
   "cell_type": "code",
   "execution_count": null,
   "metadata": {},
   "outputs": [
    {
     "name": "stdout",
     "output_type": "stream",
     "text": [
      "     name  age sex\n",
      "2     mah    9   M\n",
      "3      ol   90   F\n",
      "4  arshan   21   M\n"
     ]
    }
   ],
   "source": [
    "#creating datframe from list of lists\n",
    "\n",
    "data = [[\"mah\", 9, \"M\"],\n",
    "        [\"ol\", 90, \"F\"],\n",
    "        [\"arshan\", 21, \"M\"]]\n",
    "\n",
    "index = [2,3,4]    #change index\n",
    "col = [\"name\", \"age\", \"sex\"]  #change column name\n",
    "df = pd.DataFrame(data, index = index, columns = col)\n",
    "\n",
    "print(df)"
   ]
  },
  {
   "cell_type": "code",
   "execution_count": 58,
   "metadata": {},
   "outputs": [
    {
     "data": {
      "text/html": [
       "<div>\n",
       "<style scoped>\n",
       "    .dataframe tbody tr th:only-of-type {\n",
       "        vertical-align: middle;\n",
       "    }\n",
       "\n",
       "    .dataframe tbody tr th {\n",
       "        vertical-align: top;\n",
       "    }\n",
       "\n",
       "    .dataframe thead th {\n",
       "        text-align: right;\n",
       "    }\n",
       "</style>\n",
       "<table border=\"1\" class=\"dataframe\">\n",
       "  <thead>\n",
       "    <tr style=\"text-align: right;\">\n",
       "      <th></th>\n",
       "      <th>hey</th>\n",
       "      <th>w</th>\n",
       "      <th>h</th>\n",
       "      <th>j</th>\n",
       "    </tr>\n",
       "  </thead>\n",
       "  <tbody>\n",
       "    <tr>\n",
       "      <th>2</th>\n",
       "      <td>0.390583</td>\n",
       "      <td>0.869190</td>\n",
       "      <td>0.905004</td>\n",
       "      <td>0.856994</td>\n",
       "    </tr>\n",
       "    <tr>\n",
       "      <th>4</th>\n",
       "      <td>0.776856</td>\n",
       "      <td>0.635466</td>\n",
       "      <td>0.729215</td>\n",
       "      <td>0.021102</td>\n",
       "    </tr>\n",
       "    <tr>\n",
       "      <th>6</th>\n",
       "      <td>0.577994</td>\n",
       "      <td>0.902689</td>\n",
       "      <td>0.883371</td>\n",
       "      <td>0.374656</td>\n",
       "    </tr>\n",
       "  </tbody>\n",
       "</table>\n",
       "</div>"
      ],
      "text/plain": [
       "        hey         w         h         j\n",
       "2  0.390583  0.869190  0.905004  0.856994\n",
       "4  0.776856  0.635466  0.729215  0.021102\n",
       "6  0.577994  0.902689  0.883371  0.374656"
      ]
     },
     "execution_count": 58,
     "metadata": {},
     "output_type": "execute_result"
    }
   ],
   "source": [
    "#from numpy\n",
    "\n",
    "data = np.random.rand(3,4)\n",
    "# print(data)\n",
    "\n",
    "index = [2,4,6]\n",
    "column = [\"hey\", \"w\", \"h\",\"j\"]\n",
    "pd.DataFrame(data, index = index, columns = column)\n"
   ]
  }
 ],
 "metadata": {
  "kernelspec": {
   "display_name": "Python 3",
   "language": "python",
   "name": "python3"
  },
  "language_info": {
   "codemirror_mode": {
    "name": "ipython",
    "version": 3
   },
   "file_extension": ".py",
   "mimetype": "text/x-python",
   "name": "python",
   "nbconvert_exporter": "python",
   "pygments_lexer": "ipython3",
   "version": "3.12.9"
  }
 },
 "nbformat": 4,
 "nbformat_minor": 2
}

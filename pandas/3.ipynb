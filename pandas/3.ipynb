{
 "cells": [
  {
   "cell_type": "code",
   "execution_count": 9,
   "metadata": {},
   "outputs": [
    {
     "name": "stdout",
     "output_type": "stream",
     "text": [
      "<zip object at 0x000001D26083EAC0>\n"
     ]
    }
   ],
   "source": [
    "arrays = [\n",
    "    [\"bar\", \"bar\", \"baz\", \"baz\", \"foo\", \"foo\", \"qux\", \"qux\"],\n",
    "    [\"one\", \"two\", \"one\", \"two\", \"one\", \"two\", \"one\", \"two\"],\n",
    "]\n",
    "\n",
    "# d = zip(arrays[0],arrays[1])\n",
    "d = zip(*arrays)\n",
    "print(d)  #zip returns an iterator , like range"
   ]
  },
  {
   "cell_type": "code",
   "execution_count": 10,
   "metadata": {},
   "outputs": [
    {
     "name": "stdout",
     "output_type": "stream",
     "text": [
      "[('bar', 'one'), ('bar', 'two'), ('baz', 'one'), ('baz', 'two'), ('foo', 'one'), ('foo', 'two'), ('qux', 'one'), ('qux', 'two')]\n"
     ]
    }
   ],
   "source": [
    "f = list(d) #make that zip iterator into list so u can print\n",
    "print(f)"
   ]
  },
  {
   "cell_type": "code",
   "execution_count": null,
   "metadata": {},
   "outputs": [
    {
     "name": "stdout",
     "output_type": "stream",
     "text": [
      "MultiIndex([('bar', 'one'),\n",
      "            ('bar', 'two'),\n",
      "            ('baz', 'one'),\n",
      "            ('baz', 'two'),\n",
      "            ('foo', 'one'),\n",
      "            ('foo', 'two'),\n",
      "            ('qux', 'one'),\n",
      "            ('qux', 'two')],\n",
      "           names=['first', 'second'])\n"
     ]
    }
   ],
   "source": [
    "import pandas as pd\n",
    "index = pd.MultiIndex.from_tuples(tuples = f, names = [\"first\",\"second\"])   #make it into index\n",
    "print(index)"
   ]
  },
  {
   "cell_type": "code",
   "execution_count": null,
   "metadata": {},
   "outputs": [
    {
     "data": {
      "text/plain": [
       "first  second\n",
       "bar    one       72.752144\n",
       "       two       70.974019\n",
       "baz    one        1.136350\n",
       "       two       81.457815\n",
       "foo    one       48.975077\n",
       "       two       61.753041\n",
       "qux    one       60.815283\n",
       "       two       13.130341\n",
       "dtype: float64"
      ]
     },
     "execution_count": 15,
     "metadata": {},
     "output_type": "execute_result"
    }
   ],
   "source": [
    "#use that index\n",
    "import numpy as np \n",
    "pd.Series(np.random.rand(8) , index = index)   #apply that multi index to Series, (1D array)\n"
   ]
  },
  {
   "cell_type": "code",
   "execution_count": null,
   "metadata": {},
   "outputs": [
    {
     "data": {
      "text/plain": [
       "name  subject  \n",
       "rob   math         0.372478\n",
       "      sci          0.065129\n",
       "      commmerce    0.505608\n",
       "      nig          0.816883\n",
       "van   math         0.360464\n",
       "      sci          0.537566\n",
       "      commmerce    0.974033\n",
       "      nig          0.444149\n",
       "dam   math         0.440570\n",
       "      sci          0.449844\n",
       "      commmerce    0.153784\n",
       "      nig          0.260710\n",
       "dtype: float64"
      ]
     },
     "execution_count": 17,
     "metadata": {},
     "output_type": "execute_result"
    }
   ],
   "source": [
    "#cross product\n",
    "\n",
    "arrays = [\n",
    "    [\"rob\", \"van\",\"dam\"],\n",
    "    [\"math\",\"sci\",\"commmerce\",\"nig\"]\n",
    "]\n",
    "\n",
    "index = pd.MultiIndex.from_product(iterables=arrays, names=[\"name\",\"subject\"])\n",
    "\n",
    "pd.Series(np.random.rand(3*4),index = index)\n",
    "\n"
   ]
  },
  {
   "cell_type": "code",
   "execution_count": 20,
   "metadata": {},
   "outputs": [
    {
     "data": {
      "text/html": [
       "<div>\n",
       "<style scoped>\n",
       "    .dataframe tbody tr th:only-of-type {\n",
       "        vertical-align: middle;\n",
       "    }\n",
       "\n",
       "    .dataframe tbody tr th {\n",
       "        vertical-align: top;\n",
       "    }\n",
       "\n",
       "    .dataframe thead th {\n",
       "        text-align: right;\n",
       "    }\n",
       "</style>\n",
       "<table border=\"1\" class=\"dataframe\">\n",
       "  <thead>\n",
       "    <tr style=\"text-align: right;\">\n",
       "      <th></th>\n",
       "      <th></th>\n",
       "      <th>unit 1</th>\n",
       "      <th>unit 2</th>\n",
       "      <th>unit 3</th>\n",
       "    </tr>\n",
       "    <tr>\n",
       "      <th>name</th>\n",
       "      <th>subject</th>\n",
       "      <th></th>\n",
       "      <th></th>\n",
       "      <th></th>\n",
       "    </tr>\n",
       "  </thead>\n",
       "  <tbody>\n",
       "    <tr>\n",
       "      <th rowspan=\"4\" valign=\"top\">rob</th>\n",
       "      <th>math</th>\n",
       "      <td>0.594377</td>\n",
       "      <td>0.868447</td>\n",
       "      <td>0.593751</td>\n",
       "    </tr>\n",
       "    <tr>\n",
       "      <th>sci</th>\n",
       "      <td>0.862943</td>\n",
       "      <td>0.305738</td>\n",
       "      <td>0.479655</td>\n",
       "    </tr>\n",
       "    <tr>\n",
       "      <th>commmerce</th>\n",
       "      <td>0.448773</td>\n",
       "      <td>0.886882</td>\n",
       "      <td>0.805510</td>\n",
       "    </tr>\n",
       "    <tr>\n",
       "      <th>nig</th>\n",
       "      <td>0.352491</td>\n",
       "      <td>0.318826</td>\n",
       "      <td>0.898489</td>\n",
       "    </tr>\n",
       "    <tr>\n",
       "      <th rowspan=\"4\" valign=\"top\">van</th>\n",
       "      <th>math</th>\n",
       "      <td>0.641631</td>\n",
       "      <td>0.341992</td>\n",
       "      <td>0.201952</td>\n",
       "    </tr>\n",
       "    <tr>\n",
       "      <th>sci</th>\n",
       "      <td>0.992198</td>\n",
       "      <td>0.997254</td>\n",
       "      <td>0.656211</td>\n",
       "    </tr>\n",
       "    <tr>\n",
       "      <th>commmerce</th>\n",
       "      <td>0.309657</td>\n",
       "      <td>0.317244</td>\n",
       "      <td>0.982670</td>\n",
       "    </tr>\n",
       "    <tr>\n",
       "      <th>nig</th>\n",
       "      <td>0.040442</td>\n",
       "      <td>0.650543</td>\n",
       "      <td>0.801482</td>\n",
       "    </tr>\n",
       "    <tr>\n",
       "      <th rowspan=\"4\" valign=\"top\">dam</th>\n",
       "      <th>math</th>\n",
       "      <td>0.148599</td>\n",
       "      <td>0.004316</td>\n",
       "      <td>0.709506</td>\n",
       "    </tr>\n",
       "    <tr>\n",
       "      <th>sci</th>\n",
       "      <td>0.877560</td>\n",
       "      <td>0.799775</td>\n",
       "      <td>0.012367</td>\n",
       "    </tr>\n",
       "    <tr>\n",
       "      <th>commmerce</th>\n",
       "      <td>0.423834</td>\n",
       "      <td>0.869668</td>\n",
       "      <td>0.467773</td>\n",
       "    </tr>\n",
       "    <tr>\n",
       "      <th>nig</th>\n",
       "      <td>0.738615</td>\n",
       "      <td>0.832742</td>\n",
       "      <td>0.986262</td>\n",
       "    </tr>\n",
       "  </tbody>\n",
       "</table>\n",
       "</div>"
      ],
      "text/plain": [
       "                  unit 1    unit 2    unit 3\n",
       "name subject                                \n",
       "rob  math       0.594377  0.868447  0.593751\n",
       "     sci        0.862943  0.305738  0.479655\n",
       "     commmerce  0.448773  0.886882  0.805510\n",
       "     nig        0.352491  0.318826  0.898489\n",
       "van  math       0.641631  0.341992  0.201952\n",
       "     sci        0.992198  0.997254  0.656211\n",
       "     commmerce  0.309657  0.317244  0.982670\n",
       "     nig        0.040442  0.650543  0.801482\n",
       "dam  math       0.148599  0.004316  0.709506\n",
       "     sci        0.877560  0.799775  0.012367\n",
       "     commmerce  0.423834  0.869668  0.467773\n",
       "     nig        0.738615  0.832742  0.986262"
      ]
     },
     "execution_count": 20,
     "metadata": {},
     "output_type": "execute_result"
    }
   ],
   "source": [
    "data = pd.DataFrame(np.random.rand(3*4,3), index = index, columns=[\"unit 1\",\"unit 2\",\"unit 3\"])\n",
    "data"
   ]
  },
  {
   "cell_type": "code",
   "execution_count": 27,
   "metadata": {},
   "outputs": [
    {
     "name": "stdout",
     "output_type": "stream",
     "text": [
      "Index(['math', 'sci', 'commmerce', 'nig'], dtype='object', name='subject')\n"
     ]
    },
    {
     "data": {
      "text/plain": [
       "Index(['rob', 'van', 'dam'], dtype='object', name='name')"
      ]
     },
     "execution_count": 27,
     "metadata": {},
     "output_type": "execute_result"
    }
   ],
   "source": [
    "print(index.get_level_values(1).unique())\n",
    "index.get_level_values(0).unique()\n"
   ]
  },
  {
   "cell_type": "code",
   "execution_count": 28,
   "metadata": {},
   "outputs": [
    {
     "data": {
      "text/plain": [
       "Index(['rob', 'van', 'dam'], dtype='object', name='name')"
      ]
     },
     "execution_count": 28,
     "metadata": {},
     "output_type": "execute_result"
    }
   ],
   "source": [
    "index.get_level_values(\"name\").unique()"
   ]
  },
  {
   "cell_type": "code",
   "execution_count": 29,
   "metadata": {},
   "outputs": [
    {
     "data": {
      "text/plain": [
       "name  subject  \n",
       "rob   math         0.594377\n",
       "      sci          0.862943\n",
       "      commmerce    0.448773\n",
       "      nig          0.352491\n",
       "van   math         0.641631\n",
       "      sci          0.992198\n",
       "      commmerce    0.309657\n",
       "      nig          0.040442\n",
       "dam   math         0.148599\n",
       "      sci          0.877560\n",
       "      commmerce    0.423834\n",
       "      nig          0.738615\n",
       "Name: unit 1, dtype: float64"
      ]
     },
     "execution_count": 29,
     "metadata": {},
     "output_type": "execute_result"
    }
   ],
   "source": [
    "data[\"unit 1\"]"
   ]
  },
  {
   "cell_type": "code",
   "execution_count": 32,
   "metadata": {},
   "outputs": [
    {
     "name": "stdout",
     "output_type": "stream",
     "text": [
      "subject\n",
      "math         0.594377\n",
      "sci          0.862943\n",
      "commmerce    0.448773\n",
      "nig          0.352491\n",
      "Name: unit 1, dtype: float64\n",
      "\n",
      " \n",
      "\n",
      "subject\n",
      "math         0.868447\n",
      "sci          0.305738\n",
      "commmerce    0.886882\n",
      "nig          0.318826\n",
      "Name: unit 2, dtype: float64\n"
     ]
    }
   ],
   "source": [
    "print(data[\"unit 1\"][\"rob\"])\n",
    "print(\"\\n \\n\")\n",
    "print(data[\"unit 2\"][index.get_level_values(0)[0]])"
   ]
  },
  {
   "cell_type": "code",
   "execution_count": null,
   "metadata": {},
   "outputs": [
    {
     "data": {
      "text/plain": [
       "0.5943772819634333"
      ]
     },
     "execution_count": 35,
     "metadata": {},
     "output_type": "execute_result"
    }
   ],
   "source": [
    "first_man = index.get_level_values(0)[0]\n",
    "data[\"unit 1\"][first_man][\"math\"]\n",
    "\n",
    "#below cell has clear approach,this has confusio in ordering"
   ]
  },
  {
   "cell_type": "code",
   "execution_count": 36,
   "metadata": {},
   "outputs": [
    {
     "name": "stdout",
     "output_type": "stream",
     "text": [
      "0.5943772819634333\n"
     ]
    }
   ],
   "source": [
    "print(data.loc[(first_man, \"math\"), \"unit 1\"])"
   ]
  },
  {
   "cell_type": "code",
   "execution_count": 37,
   "metadata": {},
   "outputs": [
    {
     "name": "stdout",
     "output_type": "stream",
     "text": [
      "0.5943772819634333\n",
      "0.3057384222020493\n",
      "0.8055103304815735\n"
     ]
    }
   ],
   "source": [
    "name = index.get_level_values(0)\n",
    "sub = index.get_level_values(1)\n",
    "exam = data.columns\n",
    "\n",
    "for i,j,k in zip(name,sub,exam):\n",
    "    print(data[k][i][j])"
   ]
  },
  {
   "cell_type": "code",
   "execution_count": 39,
   "metadata": {},
   "outputs": [
    {
     "data": {
      "text/html": [
       "<div>\n",
       "<style scoped>\n",
       "    .dataframe tbody tr th:only-of-type {\n",
       "        vertical-align: middle;\n",
       "    }\n",
       "\n",
       "    .dataframe tbody tr th {\n",
       "        vertical-align: top;\n",
       "    }\n",
       "\n",
       "    .dataframe thead th {\n",
       "        text-align: right;\n",
       "    }\n",
       "</style>\n",
       "<table border=\"1\" class=\"dataframe\">\n",
       "  <thead>\n",
       "    <tr style=\"text-align: right;\">\n",
       "      <th></th>\n",
       "      <th></th>\n",
       "      <th>unit 1</th>\n",
       "      <th>unit 2</th>\n",
       "      <th>unit 3</th>\n",
       "    </tr>\n",
       "    <tr>\n",
       "      <th>name</th>\n",
       "      <th>subject</th>\n",
       "      <th></th>\n",
       "      <th></th>\n",
       "      <th></th>\n",
       "    </tr>\n",
       "  </thead>\n",
       "  <tbody>\n",
       "    <tr>\n",
       "      <th>rob</th>\n",
       "      <th>math</th>\n",
       "      <td>0.594377</td>\n",
       "      <td>0.868447</td>\n",
       "      <td>0.593751</td>\n",
       "    </tr>\n",
       "    <tr>\n",
       "      <th>van</th>\n",
       "      <th>math</th>\n",
       "      <td>0.641631</td>\n",
       "      <td>0.341992</td>\n",
       "      <td>0.201952</td>\n",
       "    </tr>\n",
       "    <tr>\n",
       "      <th>dam</th>\n",
       "      <th>math</th>\n",
       "      <td>0.148599</td>\n",
       "      <td>0.004316</td>\n",
       "      <td>0.709506</td>\n",
       "    </tr>\n",
       "  </tbody>\n",
       "</table>\n",
       "</div>"
      ],
      "text/plain": [
       "                unit 1    unit 2    unit 3\n",
       "name subject                              \n",
       "rob  math     0.594377  0.868447  0.593751\n",
       "van  math     0.641631  0.341992  0.201952\n",
       "dam  math     0.148599  0.004316  0.709506"
      ]
     },
     "execution_count": 39,
     "metadata": {},
     "output_type": "execute_result"
    }
   ],
   "source": [
    "data[::4]"
   ]
  },
  {
   "cell_type": "code",
   "execution_count": 52,
   "metadata": {},
   "outputs": [
    {
     "data": {
      "text/html": [
       "<div>\n",
       "<style scoped>\n",
       "    .dataframe tbody tr th:only-of-type {\n",
       "        vertical-align: middle;\n",
       "    }\n",
       "\n",
       "    .dataframe tbody tr th {\n",
       "        vertical-align: top;\n",
       "    }\n",
       "\n",
       "    .dataframe thead th {\n",
       "        text-align: right;\n",
       "    }\n",
       "</style>\n",
       "<table border=\"1\" class=\"dataframe\">\n",
       "  <thead>\n",
       "    <tr style=\"text-align: right;\">\n",
       "      <th></th>\n",
       "      <th></th>\n",
       "      <th>unit 1</th>\n",
       "      <th>unit 2</th>\n",
       "      <th>unit 3</th>\n",
       "    </tr>\n",
       "    <tr>\n",
       "      <th>name</th>\n",
       "      <th>subject</th>\n",
       "      <th></th>\n",
       "      <th></th>\n",
       "      <th></th>\n",
       "    </tr>\n",
       "  </thead>\n",
       "  <tbody>\n",
       "    <tr>\n",
       "      <th>van</th>\n",
       "      <th>sci</th>\n",
       "      <td>0.992198</td>\n",
       "      <td>0.997254</td>\n",
       "      <td>0.656211</td>\n",
       "    </tr>\n",
       "    <tr>\n",
       "      <th>dam</th>\n",
       "      <th>sci</th>\n",
       "      <td>0.877560</td>\n",
       "      <td>0.799775</td>\n",
       "      <td>0.012367</td>\n",
       "    </tr>\n",
       "  </tbody>\n",
       "</table>\n",
       "</div>"
      ],
      "text/plain": [
       "                unit 1    unit 2    unit 3\n",
       "name subject                              \n",
       "van  sci      0.992198  0.997254  0.656211\n",
       "dam  sci      0.877560  0.799775  0.012367"
      ]
     },
     "execution_count": 52,
     "metadata": {},
     "output_type": "execute_result"
    }
   ],
   "source": [
    "data[5::4]  #data[start:stop:step]\n"
   ]
  },
  {
   "cell_type": "code",
   "execution_count": null,
   "metadata": {},
   "outputs": [
    {
     "data": {
      "text/plain": [
       "2.2585853084897747"
      ]
     },
     "execution_count": 56,
     "metadata": {},
     "output_type": "execute_result"
    }
   ],
   "source": [
    "data[\"unit 1\"].sum()\n",
    "data[\"unit 1\"][\"rob\"].sum()\n"
   ]
  },
  {
   "cell_type": "code",
   "execution_count": 61,
   "metadata": {},
   "outputs": [
    {
     "data": {
      "text/html": [
       "<div>\n",
       "<style scoped>\n",
       "    .dataframe tbody tr th:only-of-type {\n",
       "        vertical-align: middle;\n",
       "    }\n",
       "\n",
       "    .dataframe tbody tr th {\n",
       "        vertical-align: top;\n",
       "    }\n",
       "\n",
       "    .dataframe thead th {\n",
       "        text-align: right;\n",
       "    }\n",
       "</style>\n",
       "<table border=\"1\" class=\"dataframe\">\n",
       "  <thead>\n",
       "    <tr style=\"text-align: right;\">\n",
       "      <th></th>\n",
       "      <th></th>\n",
       "      <th>unit 1</th>\n",
       "      <th>unit 2</th>\n",
       "      <th>unit 3</th>\n",
       "      <th>total</th>\n",
       "      <th>status</th>\n",
       "    </tr>\n",
       "    <tr>\n",
       "      <th>name</th>\n",
       "      <th>subject</th>\n",
       "      <th></th>\n",
       "      <th></th>\n",
       "      <th></th>\n",
       "      <th></th>\n",
       "      <th></th>\n",
       "    </tr>\n",
       "  </thead>\n",
       "  <tbody>\n",
       "    <tr>\n",
       "      <th rowspan=\"4\" valign=\"top\">rob</th>\n",
       "      <th>math</th>\n",
       "      <td>0.594377</td>\n",
       "      <td>0.868447</td>\n",
       "      <td>0.593751</td>\n",
       "      <td>2.056576</td>\n",
       "      <td>pass</td>\n",
       "    </tr>\n",
       "    <tr>\n",
       "      <th>sci</th>\n",
       "      <td>0.862943</td>\n",
       "      <td>0.305738</td>\n",
       "      <td>0.479655</td>\n",
       "      <td>1.648337</td>\n",
       "      <td>pass</td>\n",
       "    </tr>\n",
       "    <tr>\n",
       "      <th>commmerce</th>\n",
       "      <td>0.448773</td>\n",
       "      <td>0.886882</td>\n",
       "      <td>0.805510</td>\n",
       "      <td>2.141166</td>\n",
       "      <td>pass</td>\n",
       "    </tr>\n",
       "    <tr>\n",
       "      <th>nig</th>\n",
       "      <td>0.352491</td>\n",
       "      <td>0.318826</td>\n",
       "      <td>0.898489</td>\n",
       "      <td>1.569806</td>\n",
       "      <td>pass</td>\n",
       "    </tr>\n",
       "    <tr>\n",
       "      <th rowspan=\"4\" valign=\"top\">van</th>\n",
       "      <th>math</th>\n",
       "      <td>0.641631</td>\n",
       "      <td>0.341992</td>\n",
       "      <td>0.201952</td>\n",
       "      <td>1.185575</td>\n",
       "      <td>fail</td>\n",
       "    </tr>\n",
       "    <tr>\n",
       "      <th>sci</th>\n",
       "      <td>0.992198</td>\n",
       "      <td>0.997254</td>\n",
       "      <td>0.656211</td>\n",
       "      <td>2.645663</td>\n",
       "      <td>pass</td>\n",
       "    </tr>\n",
       "    <tr>\n",
       "      <th>commmerce</th>\n",
       "      <td>0.309657</td>\n",
       "      <td>0.317244</td>\n",
       "      <td>0.982670</td>\n",
       "      <td>1.609570</td>\n",
       "      <td>pass</td>\n",
       "    </tr>\n",
       "    <tr>\n",
       "      <th>nig</th>\n",
       "      <td>0.040442</td>\n",
       "      <td>0.650543</td>\n",
       "      <td>0.801482</td>\n",
       "      <td>1.492466</td>\n",
       "      <td>fail</td>\n",
       "    </tr>\n",
       "    <tr>\n",
       "      <th rowspan=\"4\" valign=\"top\">dam</th>\n",
       "      <th>math</th>\n",
       "      <td>0.148599</td>\n",
       "      <td>0.004316</td>\n",
       "      <td>0.709506</td>\n",
       "      <td>0.862421</td>\n",
       "      <td>fail</td>\n",
       "    </tr>\n",
       "    <tr>\n",
       "      <th>sci</th>\n",
       "      <td>0.877560</td>\n",
       "      <td>0.799775</td>\n",
       "      <td>0.012367</td>\n",
       "      <td>1.689703</td>\n",
       "      <td>pass</td>\n",
       "    </tr>\n",
       "    <tr>\n",
       "      <th>commmerce</th>\n",
       "      <td>0.423834</td>\n",
       "      <td>0.869668</td>\n",
       "      <td>0.467773</td>\n",
       "      <td>1.761276</td>\n",
       "      <td>pass</td>\n",
       "    </tr>\n",
       "    <tr>\n",
       "      <th>nig</th>\n",
       "      <td>0.738615</td>\n",
       "      <td>0.832742</td>\n",
       "      <td>0.986262</td>\n",
       "      <td>2.557619</td>\n",
       "      <td>pass</td>\n",
       "    </tr>\n",
       "  </tbody>\n",
       "</table>\n",
       "</div>"
      ],
      "text/plain": [
       "                  unit 1    unit 2    unit 3     total status\n",
       "name subject                                                 \n",
       "rob  math       0.594377  0.868447  0.593751  2.056576   pass\n",
       "     sci        0.862943  0.305738  0.479655  1.648337   pass\n",
       "     commmerce  0.448773  0.886882  0.805510  2.141166   pass\n",
       "     nig        0.352491  0.318826  0.898489  1.569806   pass\n",
       "van  math       0.641631  0.341992  0.201952  1.185575   fail\n",
       "     sci        0.992198  0.997254  0.656211  2.645663   pass\n",
       "     commmerce  0.309657  0.317244  0.982670  1.609570   pass\n",
       "     nig        0.040442  0.650543  0.801482  1.492466   fail\n",
       "dam  math       0.148599  0.004316  0.709506  0.862421   fail\n",
       "     sci        0.877560  0.799775  0.012367  1.689703   pass\n",
       "     commmerce  0.423834  0.869668  0.467773  1.761276   pass\n",
       "     nig        0.738615  0.832742  0.986262  2.557619   pass"
      ]
     },
     "execution_count": 61,
     "metadata": {},
     "output_type": "execute_result"
    }
   ],
   "source": [
    "data[\"total\"] = data[\"unit 1\"] + data[\"unit 2\"] + data[\"unit 3\"]\n",
    "data[\"status\"] = np.where(data[\"total\"] > 1.5, \"pass\", \"fail\")\n",
    "data"
   ]
  },
  {
   "cell_type": "code",
   "execution_count": 66,
   "metadata": {},
   "outputs": [
    {
     "name": "stdout",
     "output_type": "stream",
     "text": [
      "        unit 1    unit 2    unit 3     total            status\n",
      "name                                                          \n",
      "dam   2.188608  2.506502  2.175908  6.871018  failpasspasspass\n",
      "rob   2.258585  2.379893  2.777406  7.415885  passpasspasspass\n",
      "van   1.983927  2.307033  2.642315  6.933275  failpasspassfail\n",
      "\n",
      " --- \n",
      "\n",
      "name\n",
      "dam    6.871018\n",
      "rob    7.415885\n",
      "van    6.933275\n",
      "Name: total, dtype: float64\n"
     ]
    }
   ],
   "source": [
    "# Group by student name (first index level) and sum marks\n",
    "student_totals = data.groupby(level=0).sum()\n",
    "\n",
    "print(student_totals)\n",
    "print(\"\\n --- \\n\")\n",
    "print(student_totals[\"total\"])"
   ]
  }
 ],
 "metadata": {
  "kernelspec": {
   "display_name": "Python 3",
   "language": "python",
   "name": "python3"
  },
  "language_info": {
   "codemirror_mode": {
    "name": "ipython",
    "version": 3
   },
   "file_extension": ".py",
   "mimetype": "text/x-python",
   "name": "python",
   "nbconvert_exporter": "python",
   "pygments_lexer": "ipython3",
   "version": "3.12.9"
  }
 },
 "nbformat": 4,
 "nbformat_minor": 2
}

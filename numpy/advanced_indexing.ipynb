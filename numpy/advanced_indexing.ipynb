{
 "cells": [
  {
   "cell_type": "code",
   "execution_count": 1,
   "metadata": {},
   "outputs": [
    {
     "data": {
      "text/plain": [
       "array([10,  9,  8,  7,  6,  5,  4,  3,  2])"
      ]
     },
     "execution_count": 1,
     "metadata": {},
     "output_type": "execute_result"
    }
   ],
   "source": [
    "import numpy as np\n",
    "\n",
    "#advanced indexing: Advanced indexing is triggered when the selection object, obj, is a non-tuple sequence object,\n",
    "#  an ndarray (of data type integer or bool), or a tuple with at least one sequence object or ndarray (of data type integer or bool).\n",
    "#  There are two types of advanced indexing: integer and Boolean.\n",
    "\n",
    "\n",
    "#Advanced indexing always returns a copy of the data (contrast with basic slicing that returns a view).\n",
    "\n",
    "x = np.array([10,  9,  8,  7,  6,  5,  4,  3,  2])\n",
    "x"
   ]
  },
  {
   "cell_type": "code",
   "execution_count": 2,
   "metadata": {},
   "outputs": [
    {
     "name": "stdout",
     "output_type": "stream",
     "text": [
      "[[ 8 88  8  8]\n",
      " [ 7  7  7  7]]\n",
      "[[ 9  9  9  9]\n",
      " [ 8 88  8  8]\n",
      " [ 7  7  7  7]]\n"
     ]
    },
    {
     "data": {
      "text/plain": [
       "  C_CONTIGUOUS : True\n",
       "  F_CONTIGUOUS : False\n",
       "  OWNDATA : False\n",
       "  WRITEABLE : True\n",
       "  ALIGNED : True\n",
       "  WRITEBACKIFCOPY : False"
      ]
     },
     "execution_count": 2,
     "metadata": {},
     "output_type": "execute_result"
    }
   ],
   "source": [
    "ab = np.array([[9,9,9,9],[8,88,8,8],[7,7,7,7]])\n",
    "t = ab[1:3]   #BASIC SLICING\n",
    "print(t)\n",
    "print(ab)\n",
    "t.flags"
   ]
  },
  {
   "cell_type": "code",
   "execution_count": 3,
   "metadata": {},
   "outputs": [
    {
     "name": "stdout",
     "output_type": "stream",
     "text": [
      "[7 7 7 7]\n"
     ]
    },
    {
     "data": {
      "text/plain": [
       "  C_CONTIGUOUS : True\n",
       "  F_CONTIGUOUS : True\n",
       "  OWNDATA : False\n",
       "  WRITEABLE : True\n",
       "  ALIGNED : True\n",
       "  WRITEBACKIFCOPY : False"
      ]
     },
     "execution_count": 3,
     "metadata": {},
     "output_type": "execute_result"
    }
   ],
   "source": [
    "loo = ab[2]\n",
    "print(loo)   #no owndata thats why its a view\n",
    "loo.flags"
   ]
  },
  {
   "cell_type": "code",
   "execution_count": 4,
   "metadata": {},
   "outputs": [
    {
     "name": "stdout",
     "output_type": "stream",
     "text": [
      "[[7 7 7 7]]\n"
     ]
    },
    {
     "data": {
      "text/plain": [
       "  C_CONTIGUOUS : True\n",
       "  F_CONTIGUOUS : True\n",
       "  OWNDATA : True\n",
       "  WRITEABLE : True\n",
       "  ALIGNED : True\n",
       "  WRITEBACKIFCOPY : False"
      ]
     },
     "execution_count": 4,
     "metadata": {},
     "output_type": "execute_result"
    }
   ],
   "source": [
    "ho = ab[np.array([2])]\n",
    "print(ho)\n",
    "ho.flags     #copy because own data"
   ]
  },
  {
   "cell_type": "code",
   "execution_count": 5,
   "metadata": {},
   "outputs": [
    {
     "data": {
      "text/plain": [
       "array([ 6,  6,  6,  6,  2, 10])"
      ]
     },
     "execution_count": 5,
     "metadata": {},
     "output_type": "execute_result"
    }
   ],
   "source": [
    "x[np.array([4,4,4,4,-1,0])]"
   ]
  },
  {
   "cell_type": "code",
   "execution_count": 6,
   "metadata": {},
   "outputs": [
    {
     "name": "stdout",
     "output_type": "stream",
     "text": [
      "original = [[1 2]\n",
      " [3 4]\n",
      " [5 6]]\n"
     ]
    },
    {
     "data": {
      "text/plain": [
       "array([2, 3, 6])"
      ]
     },
     "execution_count": 6,
     "metadata": {},
     "output_type": "execute_result"
    }
   ],
   "source": [
    "x = np.array([[1, 2], [3, 4], [5, 6]])\n",
    "print(\"original =\" , x)\n",
    "x[[0,1,2],[1,0,1]]  #will output (0,1) = 2, (1,0) = 3, (2,1) = 6"
   ]
  },
  {
   "cell_type": "code",
   "execution_count": 7,
   "metadata": {},
   "outputs": [
    {
     "data": {
      "text/plain": [
       "array([[ 0,  2],\n",
       "       [ 9, 11]])"
      ]
     },
     "execution_count": 7,
     "metadata": {},
     "output_type": "execute_result"
    }
   ],
   "source": [
    "# From a 4x3 array the corner elements should be selected using advanced indexing.\n",
    "# Thus all elements for which the column is one of [0, 2] and the row is one of [0, 3] need to be selected.\n",
    "\n",
    "x = np.array([[ 0,  1,  2],\n",
    "              [ 3,  4,  5],\n",
    "              [ 6,  7,  8],\n",
    "              [ 9, 10, 11]])\n",
    "x.shape\n",
    "x.ndim\n",
    "\n",
    "rows = np.array([[0,0],\n",
    "                 [3,3]])\n",
    "\n",
    "#print(x[rows])\n",
    "\n",
    "col = np.array([[0,2],[0,2]])\n",
    "\n",
    "# rows = np.array([0,0,3,3])   #output will be edge elements but in form of 1 d array array([ 0,  2,  9, 11])\n",
    "# col = np.array([0,2,0,2])\n",
    "\n",
    "x[rows,col]\n",
    "\n",
    "\n"
   ]
  },
  {
   "cell_type": "code",
   "execution_count": 8,
   "metadata": {},
   "outputs": [
    {
     "data": {
      "text/plain": [
       "array([[ 0,  2],\n",
       "       [ 9, 11]])"
      ]
     },
     "execution_count": 8,
     "metadata": {},
     "output_type": "execute_result"
    }
   ],
   "source": [
    "\n",
    "#The function np.ix_ in NumPy is called the \"indexer function\" or \"indexing function for broadcasting.\"$\n",
    "x[[0,3],[0,2]] # array([ 0, 11])\n",
    "x[np.ix_([0,3],[0,2])]"
   ]
  },
  {
   "cell_type": "code",
   "execution_count": 9,
   "metadata": {},
   "outputs": [
    {
     "name": "stdout",
     "output_type": "stream",
     "text": [
      "[[[255   0   0]\n",
      "  [  0 255   0]\n",
      "  [  0   0 255]]\n",
      "\n",
      " [[  0   0 255]\n",
      "  [  0 255   0]\n",
      "  [255   0   0]]\n",
      "\n",
      " [[  0 255   0]\n",
      "  [255   0   0]\n",
      "  [  0   0 255]]]\n"
     ]
    }
   ],
   "source": [
    "# This is a great example of how advanced indexing with NumPy can be applied in a real-world scenario. Here's how it can be implemented:\n",
    "\n",
    "# Scenario: Color Lookup Table for an Image\n",
    "# Imagine you have:\n",
    "\n",
    "# A grayscale image (2D array) where each pixel contains an integer value representing a grayscale intensity.\n",
    "# A color lookup table (LUT), which maps these grayscale intensities to RGB color values.\n",
    "# Using advanced indexing, you can map the grayscale values of the image to their corresponding RGB values, producing a colorized image.\n",
    "\n",
    "# Grayscale image (2D array)\n",
    "\n",
    "\n",
    "# image = np.array([[0, 1, 2,1],\n",
    "#                   [2, 1, 0,1],\n",
    "#                   [1, 0, 2,1]], dtype=np.uint8)\n",
    "\n",
    "image = np.array([[0, 1, 2],\n",
    "                  [2, 1, 0],\n",
    "                  [1, 0, 2]], dtype=np.uint8)\n",
    "\n",
    "\n",
    "# Color lookup table (LUT) - maps grayscale values to RGB colors\n",
    "# Suppose 0 -> [255, 0, 0] (red), 1 -> [0, 255, 0] (green), 2 -> [0, 0, 255] (blue)\n",
    "color_lut = np.array([[255, 0, 0],  # Red for intensity 0\n",
    "                      [0, 255, 0],  # Green for intensity 1\n",
    "                      [0, 0, 255]], # Blue for intensity 2\n",
    "                     dtype=np.uint8)\n",
    "\n",
    "# Use the grayscale image to index into the LUT\n",
    "color_image = color_lut[image]\n",
    "\n",
    "# Resulting RGB image\n",
    "print(color_image)\n",
    "\n",
    "\n"
   ]
  },
  {
   "cell_type": "code",
   "execution_count": 10,
   "metadata": {},
   "outputs": [
    {
     "name": "stdout",
     "output_type": "stream",
     "text": [
      "[ True False False  True  True False False  True False False]\n"
     ]
    },
    {
     "data": {
      "text/plain": [
       "array([100, 400,  65,  99])"
      ]
     },
     "execution_count": 10,
     "metadata": {},
     "output_type": "execute_result"
    }
   ],
   "source": [
    "#boolean indexing\n",
    "#suppose u are working with financial data\n",
    "data = np.array([100,20,40,400,65,18,26,99,32,29])\n",
    "condition = data > 50\n",
    "print(condition)\n",
    "x = data[condition]\n",
    "x"
   ]
  },
  {
   "cell_type": "code",
   "execution_count": 16,
   "metadata": {},
   "outputs": [
    {
     "name": "stdout",
     "output_type": "stream",
     "text": [
      "[[1 2 3]\n",
      " [7 7 7]]\n",
      "[[1 2 3]\n",
      " [7 7 7]]\n",
      "  C_CONTIGUOUS : True\n",
      "  F_CONTIGUOUS : False\n",
      "  OWNDATA : False\n",
      "  WRITEABLE : True\n",
      "  ALIGNED : True\n",
      "  WRITEBACKIFCOPY : False\n",
      "\n",
      "[[1 2 3]\n",
      " [7 7 7]]\n",
      "  C_CONTIGUOUS : True\n",
      "  F_CONTIGUOUS : False\n",
      "  OWNDATA : True\n",
      "  WRITEABLE : True\n",
      "  ALIGNED : True\n",
      "  WRITEBACKIFCOPY : False\n",
      "\n"
     ]
    }
   ],
   "source": [
    "#if u want copy of two rows;\n",
    "x = np.array([[1,2,3],[7,7,7]])\n",
    "print(x)\n",
    "\n",
    "basic = x[:2,:]\n",
    "print(basic)\n",
    "print(basic.flags)\n",
    "\n",
    "advance = x[(0,1),]  #can be list , or better declare variable row = [0,1]\n",
    "print(advance)\n",
    "print(advance.flags)"
   ]
  }
 ],
 "metadata": {
  "kernelspec": {
   "display_name": "base",
   "language": "python",
   "name": "python3"
  },
  "language_info": {
   "codemirror_mode": {
    "name": "ipython",
    "version": 3
   },
   "file_extension": ".py",
   "mimetype": "text/x-python",
   "name": "python",
   "nbconvert_exporter": "python",
   "pygments_lexer": "ipython3",
   "version": "3.11.5"
  }
 },
 "nbformat": 4,
 "nbformat_minor": 2
}

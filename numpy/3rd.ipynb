{
 "cells": [
  {
   "cell_type": "code",
   "execution_count": 1,
   "metadata": {},
   "outputs": [
    {
     "data": {
      "text/plain": [
       "  C_CONTIGUOUS : True\n",
       "  F_CONTIGUOUS : False\n",
       "  OWNDATA : True\n",
       "  WRITEABLE : True\n",
       "  ALIGNED : True\n",
       "  WRITEBACKIFCOPY : False"
      ]
     },
     "execution_count": 1,
     "metadata": {},
     "output_type": "execute_result"
    }
   ],
   "source": [
    "import numpy as np\n",
    "m = np.array(([5,6,7,87,9],[3,4,5,6,7],[2,2,90,-1,2]), dtype= np.int32)\n",
    "m.ndim\n",
    "m.shape\n",
    "m.flags #c contigous: row major, fortran contigous column major\n"
   ]
  },
  {
   "cell_type": "code",
   "execution_count": 2,
   "metadata": {},
   "outputs": [
    {
     "data": {
      "text/plain": [
       "(20, 4)"
      ]
     },
     "execution_count": 2,
     "metadata": {},
     "output_type": "execute_result"
    }
   ],
   "source": [
    "m.strides"
   ]
  },
  {
   "cell_type": "code",
   "execution_count": 3,
   "metadata": {},
   "outputs": [
    {
     "data": {
      "text/plain": [
       "(40, 8)"
      ]
     },
     "execution_count": 3,
     "metadata": {},
     "output_type": "execute_result"
    }
   ],
   "source": [
    "m = np.array(([5,6,7,87,9],[3,4,5,6,7],[2,2,90,-1,2]), dtype= np.int64)  #change dtype ans see how strid3es chnage\n",
    "m.strides\n",
    "#strides (a,b) in row major says, u need a bytes to go to next row and b bytes to go to next element of row"
   ]
  },
  {
   "cell_type": "code",
   "execution_count": 4,
   "metadata": {},
   "outputs": [
    {
     "name": "stdout",
     "output_type": "stream",
     "text": [
      "[0 1 2 3 4 5]\n",
      "  C_CONTIGUOUS : True\n",
      "  F_CONTIGUOUS : True\n",
      "  OWNDATA : True\n",
      "  WRITEABLE : True\n",
      "  ALIGNED : True\n",
      "  WRITEBACKIFCOPY : False\n",
      "\n",
      "(4,)\n",
      "False\n",
      "  C_CONTIGUOUS : True\n",
      "  F_CONTIGUOUS : False\n",
      "  OWNDATA : False\n",
      "  WRITEABLE : True\n",
      "  ALIGNED : True\n",
      "  WRITEBACKIFCOPY : False\n",
      "\n",
      "[[999   1   2]\n",
      " [  3   4   5]]\n",
      "[999   1   2   3   4   5]\n"
     ]
    }
   ],
   "source": [
    "# NumPy, strides provide metadata about how to access the data in memory,\n",
    "# but they do not represent the physical memory locations of the data elements or data itself.\n",
    "\n",
    "#what is stride: Strides are a tuple of integers that tell you the number of bytes you need to move to get from one element to the next along each dimension\n",
    "\n",
    "#strides do not change the actual data; they only change how you access the data. basically view\n",
    "\n",
    "arr = np.arange(6)\n",
    "print(arr)\n",
    "print(arr.flags)\n",
    "print(arr.strides)\n",
    "\n",
    "arr_new = arr.reshape(2,3)\n",
    "print(arr is arr_new)   #Since this is a new reshaped view, it shares the same data as arr, but does not point to the exact same memory address. so diff\n",
    "print(arr_new.flags)\n",
    "\n",
    "arr_new[0,0] = 999  #it changes in original one also\n",
    "\n",
    "print(arr_new)\n",
    "print(arr)      \n",
    "# print(id(arr))\n",
    "# print(id(arr_new))\n",
    "\n"
   ]
  },
  {
   "cell_type": "code",
   "execution_count": 5,
   "metadata": {},
   "outputs": [
    {
     "name": "stdout",
     "output_type": "stream",
     "text": [
      "[999  89   2   3   4   5]\n",
      "[[999  89   2]\n",
      " [  3   4   5]]\n",
      "(4,)\n",
      "(12, 4)\n"
     ]
    }
   ],
   "source": [
    "arr[1] = 89\n",
    "\n",
    "print(arr)\n",
    "print(arr_new)\n",
    "\n",
    "# When we reshape , only strides change and it creates a view, underlying memeory architecure remains same\n",
    "# When we reshape an array in NumPy, the physical memory of the underlying data does not change; only the logical view of the data changes.\n",
    "# This is why the strides change but the underlying memory remains the same.\n",
    "\n",
    "print(arr.strides)\n",
    "print(arr_new.strides)"
   ]
  },
  {
   "cell_type": "code",
   "execution_count": 6,
   "metadata": {},
   "outputs": [
    {
     "name": "stdout",
     "output_type": "stream",
     "text": [
      "[[[ 0  1  2]\n",
      "  [ 3  4  5]\n",
      "  [ 6  7  8]]\n",
      "\n",
      " [[ 9 10 11]\n",
      "  [12 13 14]\n",
      "  [15 16 17]]\n",
      "\n",
      " [[18 19 20]\n",
      "  [21 22 23]\n",
      "  [24 25 26]]]\n",
      "  C_CONTIGUOUS : True\n",
      "  F_CONTIGUOUS : True\n",
      "  OWNDATA : True\n",
      "  WRITEABLE : True\n",
      "  ALIGNED : True\n",
      "  WRITEBACKIFCOPY : False\n",
      "\n",
      "(4,)\n",
      "(36, 12, 4)\n"
     ]
    }
   ],
   "source": [
    "thre = np.arange(3*3*3)\n",
    "th = thre.reshape(3,3,3)\n",
    "print(th)\n",
    "print(thre.flags)\n",
    "print(thre.strides)\n",
    "\n",
    "print(th.strides)"
   ]
  },
  {
   "cell_type": "code",
   "execution_count": 7,
   "metadata": {},
   "outputs": [
    {
     "name": "stdout",
     "output_type": "stream",
     "text": [
      "False\n",
      "True\n",
      "False\n",
      "False\n"
     ]
    }
   ],
   "source": [
    "# The difference between shallow and deep copying is only relevant for compound objects (objects that contain other objects, like lists or class instances):\n",
    "\n",
    "# A shallow copy constructs a new compound object and then (to the extent possible) inserts references into it to the objects found in the original.\n",
    "\n",
    "# A deep copy constructs a new compound object and then, recursively, inserts copies into it of the objects found in the original.\n",
    "\n",
    "import copy\n",
    "ab = [[1,2,3],[2,2,2]]\n",
    "cd = copy.copy(ab) #shallow copy   #useful if we are working with immutable data\n",
    "bd = copy.deepcopy(ab)  #deepcopy\n",
    "\n",
    "\n",
    "print(ab is cd)          #false\n",
    "print(ab[0] is cd[0])     #true\n",
    "\n",
    "print(ab is bd)\n",
    "print(ab[0] is bd[0])"
   ]
  },
  {
   "cell_type": "code",
   "execution_count": 8,
   "metadata": {},
   "outputs": [
    {
     "name": "stdout",
     "output_type": "stream",
     "text": [
      "[[ 0  1  2  3  4]\n",
      " [ 5  6  7  8  9]\n",
      " [10 11 12 13 14]\n",
      " [15 16 17 18 19]]\n",
      "[5 6 7 8 9]\n",
      "[ 1  6 11 16]\n"
     ]
    }
   ],
   "source": [
    "b = np.arange(4*5).reshape(4,5)\n",
    "print(b)\n",
    "print(b[1,])\n",
    "print(b[:,1])"
   ]
  },
  {
   "cell_type": "code",
   "execution_count": 9,
   "metadata": {},
   "outputs": [
    {
     "data": {
      "text/plain": [
       "array([[ 2,  3],\n",
       "       [ 7,  8],\n",
       "       [12, 13],\n",
       "       [17, 18]])"
      ]
     },
     "execution_count": 9,
     "metadata": {},
     "output_type": "execute_result"
    }
   ],
   "source": [
    "b[:,2:4]"
   ]
  },
  {
   "cell_type": "code",
   "execution_count": 10,
   "metadata": {},
   "outputs": [
    {
     "data": {
      "text/plain": [
       "array([[ 0,  2,  4],\n",
       "       [10, 12, 14]])"
      ]
     },
     "execution_count": 10,
     "metadata": {},
     "output_type": "execute_result"
    }
   ],
   "source": [
    "b[::2,::2]"
   ]
  },
  {
   "cell_type": "code",
   "execution_count": 11,
   "metadata": {},
   "outputs": [
    {
     "name": "stdout",
     "output_type": "stream",
     "text": [
      "[[[ 0  1  2]\n",
      "  [ 3  4  5]\n",
      "  [ 6  7  8]]\n",
      "\n",
      " [[ 9 10 11]\n",
      "  [12 13 14]\n",
      "  [15 16 17]]\n",
      "\n",
      " [[18 19 20]\n",
      "  [21 22 23]\n",
      "  [24 25 26]]]\n",
      "(3, 3, 3)\n",
      "\n",
      " after indexing\n",
      "[[[ 0  2]\n",
      "  [ 3  5]\n",
      "  [ 6  8]]\n",
      "\n",
      " [[ 9 11]\n",
      "  [12 14]\n",
      "  [15 17]]\n",
      "\n",
      " [[18 20]\n",
      "  [21 23]\n",
      "  [24 26]]]\n",
      "(3, 3, 2)\n"
     ]
    }
   ],
   "source": [
    "print(th)\n",
    "print(th.shape)\n",
    "print(\"\\n after indexing\")\n",
    "print(th[0:,0:,::2])\n",
    "print(th[0:,0:,::2].shape)"
   ]
  },
  {
   "cell_type": "code",
   "execution_count": 12,
   "metadata": {},
   "outputs": [
    {
     "name": "stdout",
     "output_type": "stream",
     "text": [
      "[[ 2  5  8]\n",
      " [11 14 17]\n",
      " [20 23 26]]\n"
     ]
    },
    {
     "data": {
      "text/plain": [
       "array([[18, 19, 20],\n",
       "       [21, 22, 23],\n",
       "       [24, 25, 26]])"
      ]
     },
     "execution_count": 12,
     "metadata": {},
     "output_type": "execute_result"
    }
   ],
   "source": [
    "print(th[...,2])  #ellipse, its quyivalent to th[:,:,2] bvetter if we have 100 dim array\n",
    "th[2,...]"
   ]
  },
  {
   "cell_type": "code",
   "execution_count": 13,
   "metadata": {},
   "outputs": [
    {
     "name": "stdout",
     "output_type": "stream",
     "text": [
      "[ True False False  True  True False False  True False False]\n"
     ]
    },
    {
     "data": {
      "text/plain": [
       "array([100, 400,  65,  99])"
      ]
     },
     "execution_count": 13,
     "metadata": {},
     "output_type": "execute_result"
    }
   ],
   "source": [
    "#boolean indexing\n",
    "#suppose u are working with financial data\n",
    "data = np.array([100,20,40,400,65,18,26,99,32,29])\n",
    "condition = data > 50\n",
    "print(condition)\n",
    "x = data[condition]\n",
    "x"
   ]
  },
  {
   "cell_type": "code",
   "execution_count": 14,
   "metadata": {},
   "outputs": [],
   "source": [
    "#structured datatpes"
   ]
  }
 ],
 "metadata": {
  "kernelspec": {
   "display_name": "Python 3",
   "language": "python",
   "name": "python3"
  },
  "language_info": {
   "codemirror_mode": {
    "name": "ipython",
    "version": 3
   },
   "file_extension": ".py",
   "mimetype": "text/x-python",
   "name": "python",
   "nbconvert_exporter": "python",
   "pygments_lexer": "ipython3",
   "version": "3.12.8"
  }
 },
 "nbformat": 4,
 "nbformat_minor": 2
}

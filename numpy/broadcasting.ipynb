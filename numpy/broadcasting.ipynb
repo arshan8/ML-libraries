{
 "cells": [
  {
   "cell_type": "code",
   "execution_count": 7,
   "metadata": {},
   "outputs": [
    {
     "data": {
      "text/plain": [
       "[[1, 2, 3], [4, 8, 9], 2]"
      ]
     },
     "execution_count": 7,
     "metadata": {},
     "output_type": "execute_result"
    }
   ],
   "source": [
    "#broadcasting: adjusting shape to make operations compatible\n",
    "\n",
    "#without numpy\n",
    "a = [[1,2,3],[4,8,9]]\n",
    "b = [2]\n",
    "a+b"
   ]
  },
  {
   "cell_type": "code",
   "execution_count": 8,
   "metadata": {},
   "outputs": [
    {
     "data": {
      "text/plain": [
       "array([[ 3,  4,  5],\n",
       "       [ 6, 10, 11]])"
      ]
     },
     "execution_count": 8,
     "metadata": {},
     "output_type": "execute_result"
    }
   ],
   "source": [
    "import numpy as np\n",
    "\n",
    "aa = np.array(a)\n",
    "bb = np.array(b)\n",
    "aa+bb  # it broadcasted 2 \n",
    "\n",
    "#rules of broadcasting:\n",
    "#corresponding dimension be 1 or equal"
   ]
  },
  {
   "cell_type": "code",
   "execution_count": 14,
   "metadata": {},
   "outputs": [
    {
     "name": "stdout",
     "output_type": "stream",
     "text": [
      "[[ 0  1  2  3]\n",
      " [ 4  5  6  7]\n",
      " [ 8  9 10 11]]\n",
      "[ 1  2  3 -1]\n"
     ]
    },
    {
     "data": {
      "text/plain": [
       "array([[ 1,  3,  5,  2],\n",
       "       [ 5,  7,  9,  6],\n",
       "       [ 9, 11, 13, 10]])"
      ]
     },
     "execution_count": 14,
     "metadata": {},
     "output_type": "execute_result"
    }
   ],
   "source": [
    "aa = np.arange(3*4).reshape(3,4)\n",
    "print(aa)\n",
    "bb = np.array([1,2]) #shape is 1,2 .   3 and 1 will match because its 1, but 4 and 2 mismatch so broad castingf not psossible\n",
    "#aa + bb error\n",
    "\n",
    "cc = np.array([1,2,3,-1]) # shape is 1,4   . 3 and 1 will match because its 1, and 4 and 4 willl match becuase same\n",
    "print(cc)\n",
    "aa + cc"
   ]
  }
 ],
 "metadata": {
  "kernelspec": {
   "display_name": "base",
   "language": "python",
   "name": "python3"
  },
  "language_info": {
   "codemirror_mode": {
    "name": "ipython",
    "version": 3
   },
   "file_extension": ".py",
   "mimetype": "text/x-python",
   "name": "python",
   "nbconvert_exporter": "python",
   "pygments_lexer": "ipython3",
   "version": "3.11.5"
  }
 },
 "nbformat": 4,
 "nbformat_minor": 2
}

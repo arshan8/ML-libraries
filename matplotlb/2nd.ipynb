{
 "cells": [
  {
   "cell_type": "code",
   "execution_count": 1,
   "metadata": {},
   "outputs": [],
   "source": [
    "import matplotlib.pyplot as plt\n",
    "#it has statefull nature, keeps track of hat was don e so far, if no figure exiwsts, itll create a figure, '\n",
    "# if figure exists, it wont overwrite, but write on top of it basically add \n",
    "\n",
    "# The object-oriented (OO) style in Matplotlib is not stateful in the same way as the pyplot interface. \n",
    "# In the OO approach, you work with specific Figure and Axes objects explicitly,\n",
    "#  rather than relying on Matplotlib to keep track of the current figure or axes."
   ]
  },
  {
   "cell_type": "code",
   "execution_count": null,
   "metadata": {},
   "outputs": [],
   "source": []
  }
 ],
 "metadata": {
  "kernelspec": {
   "display_name": "Python 3",
   "language": "python",
   "name": "python3"
  },
  "language_info": {
   "codemirror_mode": {
    "name": "ipython",
    "version": 3
   },
   "file_extension": ".py",
   "mimetype": "text/x-python",
   "name": "python",
   "nbconvert_exporter": "python",
   "pygments_lexer": "ipython3",
   "version": "3.12.8"
  }
 },
 "nbformat": 4,
 "nbformat_minor": 2
}
